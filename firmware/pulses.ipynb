{
 "cells": [
  {
   "cell_type": "code",
   "execution_count": 1,
   "metadata": {},
   "outputs": [
    {
     "name": "stdout",
     "output_type": "stream",
     "text": [
      "[12, 10, 10, 50, 10, 150, 10, 30, 10, 10, 10, 10, 10, 10, 10, 10, 10, 10, 10, 10, 10, 10, 10, 10, 10, 30, 10, 10, 10, 30, 10, 10, 10, 10, 10, 10, 10, 10, 10, 10, 10, 30, 10, 30, 10, 30, 10, 10, 10, 30, 10]\n"
     ]
    }
   ],
   "source": [
    "import g2c1 # https://github.com/EMS-TU-Ilmenau/G2C1Messages\n",
    "\n",
    "msg = g2c1.messages.Query(dr=8, m=1, trExt=False)\n",
    "reader = g2c1.Reader(tariUs=20, blfMHz=0.05)\n",
    "print(list(map(int, reader.toPulses(msg))))"
   ]
  }
 ],
 "metadata": {
  "interpreter": {
   "hash": "df955ce39d0f31d56d4bb2fe0a613e5326ba60723fd33d8303a3aede8f65715c"
  },
  "kernelspec": {
   "display_name": "Python 3.7.0 64-bit",
   "language": "python",
   "name": "python3"
  },
  "language_info": {
   "codemirror_mode": {
    "name": "ipython",
    "version": 3
   },
   "file_extension": ".py",
   "mimetype": "text/x-python",
   "name": "python",
   "nbconvert_exporter": "python",
   "pygments_lexer": "ipython3",
   "version": "3.7.0"
  },
  "orig_nbformat": 4
 },
 "nbformat": 4,
 "nbformat_minor": 2
}
