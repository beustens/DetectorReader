{
 "cells": [
  {
   "cell_type": "code",
   "execution_count": 17,
   "metadata": {},
   "outputs": [],
   "source": [
    "import struct # to encode"
   ]
  },
  {
   "cell_type": "code",
   "execution_count": 18,
   "metadata": {},
   "outputs": [
    {
     "name": "stdout",
     "output_type": "stream",
     "text": [
      "0000010011010010\n"
     ]
    }
   ],
   "source": [
    "rn16 = 1234 # tag handle (random number when queried)\n",
    "rn16Bytes = struct.pack('>H', rn16)\n",
    "# show as bits\n",
    "rn16BitStr = ''.join(format(byte, '08b') for byte in rn16Bytes)\n",
    "print(rn16BitStr)"
   ]
  },
  {
   "cell_type": "code",
   "execution_count": 20,
   "metadata": {},
   "outputs": [
    {
     "name": "stdout",
     "output_type": "stream",
     "text": [
      "[10, 10, 10, 10, 10, 10, 10, 10, 10, 10, 20, 10, 10, 10, 10, 20, 20, 10, 10, 20, 10, 10, 10, 10, 20, 10, 10]\n"
     ]
    }
   ],
   "source": [
    "blfKHz = 50\n",
    "data1Pulse = 1000//blfKHz\n",
    "data0Pulse = data1Pulse//2\n",
    "\n",
    "# convert to FM0 pulse lengths\n",
    "pulses = []\n",
    "for bit in rn16BitStr:\n",
    "\tif bit == '0':\n",
    "\t\tpulses.extend((data0Pulse, data0Pulse))\n",
    "\telse:\n",
    "\t\tpulses.append(data1Pulse)\n",
    "\n",
    "print(pulses)"
   ]
  }
 ],
 "metadata": {
  "interpreter": {
   "hash": "aee8b7b246df8f9039afb4144a1f6fd8d2ca17a180786b69acc140d282b71a49"
  },
  "kernelspec": {
   "display_name": "Python 3.7.0 64-bit",
   "language": "python",
   "name": "python3"
  },
  "language_info": {
   "codemirror_mode": {
    "name": "ipython",
    "version": 3
   },
   "file_extension": ".py",
   "mimetype": "text/x-python",
   "name": "python",
   "nbconvert_exporter": "python",
   "pygments_lexer": "ipython3",
   "version": "3.7.0"
  },
  "orig_nbformat": 4
 },
 "nbformat": 4,
 "nbformat_minor": 2
}
